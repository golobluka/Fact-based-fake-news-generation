{
 "cells": [
  {
   "cell_type": "code",
   "execution_count": 3,
   "metadata": {},
   "outputs": [
    {
     "name": "stdout",
     "output_type": "stream",
     "text": [
      "Markdown file 'markdown_results\\generation_vaccination_all_tweets_1_markdown.md' has been created.\n"
     ]
    }
   ],
   "source": [
    "import pandas as pd\n",
    "import os\n",
    "\n",
    "def csv_to_markdown(csv_file):\n",
    "    # Read the CSV file\n",
    "    df = pd.read_csv(csv_file)\n",
    "    name_of_file =  csv_file[:-4] + '_markdown.md'\n",
    "    folder = 'markdown_results'\n",
    "    markdown_file = os.path.join(folder, name_of_file)\n",
    "\n",
    "    \n",
    "    # Open the markdown file for writing\n",
    "    with open(markdown_file, 'w') as f:\n",
    "        # Iterate over each row in the DataFrame\n",
    "        for index, row in df.iterrows():\n",
    "            f.write(f\"# Chapter {index + 1}\\n\\n\")\n",
    "            f.write(\"## Changed Article\\n\")\n",
    "            f.write(f\"{row['Changed_article']}\\n\\n\")\n",
    "            f.write(\"## Changed JSON\\n\")\n",
    "            f.write(f\"```\\n{row['Changed_json']}\\n```\\n\\n\")\n",
    "            f.write(\"## Original Article\\n\")\n",
    "            f.write(f\"{row['Original_article']}\\n\\n\")\n",
    "            f.write(\"## Original JSON\\n\")\n",
    "            f.write(f\"```\\n{row['Original_json']}\\n```\\n\\n\")\n",
    "            f.write(\"## Topics Changed\\n\")\n",
    "            f.write(f\"{row['topics_changed']}\\n\\n\")\n",
    "            f.write(\"## Topics\\n\")\n",
    "            f.write(f\"```\\n{row['topics']}\\n```\\n\\n\")\n",
    "            f.write(\"---\\n\\n\")  # Add a separator between chapters\n",
    "\n",
    "    print(f\"Markdown file '{markdown_file}' has been created.\")\n",
    "\n",
    "# Usage\n",
    "csv_to_markdown('generation_vaccination_all_tweets_1.csv')\n",
    "\n",
    "\n",
    "\n"
   ]
  },
  {
   "cell_type": "code",
   "execution_count": 4,
   "metadata": {},
   "outputs": [
    {
     "name": "stdout",
     "output_type": "stream",
     "text": [
      "Markdown file 'markdown_results\\vaccination_synthetic_articles_1_markdown.md' has been created.\n"
     ]
    }
   ],
   "source": [
    "csv_to_markdown('vaccination_synthetic_articles_1.csv')"
   ]
  },
  {
   "cell_type": "code",
   "execution_count": null,
   "metadata": {},
   "outputs": [],
   "source": []
  }
 ],
 "metadata": {
  "kernelspec": {
   "display_name": "ES-testing",
   "language": "python",
   "name": "es-testing"
  },
  "language_info": {
   "codemirror_mode": {
    "name": "ipython",
    "version": 3
   },
   "file_extension": ".py",
   "mimetype": "text/x-python",
   "name": "python",
   "nbconvert_exporter": "python",
   "pygments_lexer": "ipython3",
   "version": "3.8.5"
  }
 },
 "nbformat": 4,
 "nbformat_minor": 2
}
