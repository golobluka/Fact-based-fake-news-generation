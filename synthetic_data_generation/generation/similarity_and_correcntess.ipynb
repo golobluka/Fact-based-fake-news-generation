{
 "cells": [
  {
   "cell_type": "code",
   "execution_count": null,
   "metadata": {},
   "outputs": [
    {
     "name": "stderr",
     "output_type": "stream",
     "text": [
      "c:\\Users\\Lukag\\OneDrive\\Documents\\git\\IJS\\Fact-based-fake-news-generation\\synthetic_data_generation\\generation\\src\\General_news_labeling.py:62: SyntaxWarning: invalid escape sequence '\\s'\n",
      "  pattern += r'.*' + re.escape(key) + r'.*:' + opening_delimiter + '\\s*(.*)' + delimiter\n",
      "c:\\Users\\Lukag\\OneDrive\\Documents\\git\\IJS\\Fact-based-fake-news-generation\\synthetic_data_generation\\generation\\src\\General_news_labeling.py:62: SyntaxWarning: invalid escape sequence '\\s'\n",
      "  pattern += r'.*' + re.escape(key) + r'.*:' + opening_delimiter + '\\s*(.*)' + delimiter\n"
     ]
    },
    {
     "ename": "ModuleNotFoundError",
     "evalue": "No module named 'ollama'",
     "output_type": "error",
     "traceback": [
      "\u001b[1;31m---------------------------------------------------------------------------\u001b[0m",
      "\u001b[1;31mModuleNotFoundError\u001b[0m                       Traceback (most recent call last)",
      "Cell \u001b[1;32mIn[1], line 1\u001b[0m\n\u001b[1;32m----> 1\u001b[0m \u001b[38;5;28;01mfrom\u001b[39;00m \u001b[38;5;21;01msrc\u001b[39;00m\u001b[38;5;21;01m.\u001b[39;00m\u001b[38;5;21;01mGeneral_news_labeling\u001b[39;00m \u001b[38;5;28;01mimport\u001b[39;00m computation_of_similarity_and_correctness \n\u001b[0;32m      2\u001b[0m \u001b[38;5;28;01mimport\u001b[39;00m \u001b[38;5;21;01mpandas\u001b[39;00m \u001b[38;5;28;01mas\u001b[39;00m \u001b[38;5;21;01mpd\u001b[39;00m\n\u001b[0;32m      3\u001b[0m \u001b[38;5;28;01mimport\u001b[39;00m \u001b[38;5;21;01mos\u001b[39;00m\n",
      "File \u001b[1;32mc:\\Users\\Lukag\\OneDrive\\Documents\\git\\IJS\\Fact-based-fake-news-generation\\synthetic_data_generation\\generation\\src\\General_news_labeling.py:6\u001b[0m\n\u001b[0;32m      4\u001b[0m \u001b[38;5;66;03m#Imports\u001b[39;00m\n\u001b[0;32m      5\u001b[0m \u001b[38;5;28;01mimport\u001b[39;00m \u001b[38;5;21;01mrandom\u001b[39;00m\n\u001b[1;32m----> 6\u001b[0m \u001b[38;5;28;01mimport\u001b[39;00m \u001b[38;5;21;01mollama\u001b[39;00m\n\u001b[0;32m      7\u001b[0m \u001b[38;5;28;01mimport\u001b[39;00m \u001b[38;5;21;01mjson\u001b[39;00m\n\u001b[0;32m      8\u001b[0m \u001b[38;5;28;01mimport\u001b[39;00m \u001b[38;5;21;01mre\u001b[39;00m\n",
      "\u001b[1;31mModuleNotFoundError\u001b[0m: No module named 'ollama'"
     ]
    }
   ],
   "source": [
    "from src.General_news_labeling import computation_of_similarity_and_correctness \n",
    "import pandas as pd\n",
    "import os\n",
    "import json\n",
    "\n",
    "current_path = os.getcwd()  # Get the current working directory\n",
    "location_of_file = \"synthetic_tweets\"\n",
    "file_name = \"generation_vaccination_all_tweets_combined.csv\"\n",
    "\n",
    "path_string = os.path.join(current_path, location_of_file, file_name)\n",
    "\n",
    "\n",
    "data = pd.read_csv(path_string)\n",
    "data = data.dropna()\n",
    "# Convert the json_column from JSON strings to dictionaries\n",
    "data[\"topics\"] = data[\"topics\"].apply(json.loads)\n",
    "\n",
    "\n",
    "data['general_topics'] = data['topics']\n",
    "\n",
    "\n",
    "print(data.values.tolist())\n",
    "print(data.shape)\n",
    "\n",
    "results_labeling = computation_of_similarity_and_correctness(data, print_comments=True)"
   ]
  },
  {
   "cell_type": "code",
   "execution_count": 3,
   "metadata": {},
   "outputs": [],
   "source": [
    "filename = \"labelling_of_vaccination_tweets.csv\"\n",
    "results_labeling.to_csv(filename)"
   ]
  },
  {
   "cell_type": "code",
   "execution_count": 2,
   "metadata": {},
   "outputs": [
    {
     "ename": "ModuleNotFoundError",
     "evalue": "No module named 'ollama'",
     "output_type": "error",
     "traceback": [
      "\u001b[1;31m---------------------------------------------------------------------------\u001b[0m",
      "\u001b[1;31mModuleNotFoundError\u001b[0m                       Traceback (most recent call last)",
      "Cell \u001b[1;32mIn[2], line 1\u001b[0m\n\u001b[1;32m----> 1\u001b[0m \u001b[38;5;28;01mfrom\u001b[39;00m \u001b[38;5;21;01msrc\u001b[39;00m\u001b[38;5;21;01m.\u001b[39;00m\u001b[38;5;21;01mGeneral_news_labeling\u001b[39;00m \u001b[38;5;28;01mimport\u001b[39;00m computation_of_similarity_and_correctness \n\u001b[0;32m      2\u001b[0m \u001b[38;5;28;01mimport\u001b[39;00m \u001b[38;5;21;01mpandas\u001b[39;00m \u001b[38;5;28;01mas\u001b[39;00m \u001b[38;5;21;01mpd\u001b[39;00m\n\u001b[0;32m      3\u001b[0m \u001b[38;5;28;01mimport\u001b[39;00m \u001b[38;5;21;01mos\u001b[39;00m\n",
      "File \u001b[1;32mc:\\Users\\Lukag\\OneDrive\\Documents\\git\\IJS\\Fact-based-fake-news-generation\\synthetic_data_generation\\generation\\src\\General_news_labeling.py:6\u001b[0m\n\u001b[0;32m      4\u001b[0m \u001b[38;5;66;03m#Imports\u001b[39;00m\n\u001b[0;32m      5\u001b[0m \u001b[38;5;28;01mimport\u001b[39;00m \u001b[38;5;21;01mrandom\u001b[39;00m\n\u001b[1;32m----> 6\u001b[0m \u001b[38;5;28;01mimport\u001b[39;00m \u001b[38;5;21;01mollama\u001b[39;00m\n\u001b[0;32m      7\u001b[0m \u001b[38;5;28;01mimport\u001b[39;00m \u001b[38;5;21;01mjson\u001b[39;00m\n\u001b[0;32m      8\u001b[0m \u001b[38;5;28;01mimport\u001b[39;00m \u001b[38;5;21;01mre\u001b[39;00m\n",
      "\u001b[1;31mModuleNotFoundError\u001b[0m: No module named 'ollama'"
     ]
    }
   ],
   "source": [
    "from src.General_news_labeling import computation_of_similarity_and_correctness \n",
    "import pandas as pd\n",
    "import os\n",
    "import json\n",
    "\n",
    "current_path = os.getcwd()  # Get the current working directory\n",
    "parent_directory = os.path.dirname(current_path)  # Going back one directory\n",
    "\n",
    "path_string_load = \"vaccination_synthetic_articles_combined.csv\"\n",
    "\n",
    "\n",
    "\n",
    "data = pd.read_csv(path_string_load)\n",
    "data = data.dropna()\n",
    "# Convert the json_column from JSON strings to dictionaries\n",
    "data[\"topics\"] = data[\"topics\"].apply(json.loads)\n",
    "\n",
    "\n",
    "data['general_topics'] = data['topics']\n",
    "\n",
    "\n",
    "print(data.values.tolist())\n",
    "print(data.shape)\n",
    "\n",
    "results_labeling = computation_of_similarity_and_correctness(data, print_comments=True)"
   ]
  },
  {
   "cell_type": "code",
   "execution_count": 5,
   "metadata": {},
   "outputs": [],
   "source": [
    "filename = \"labelling_of_vaccination_articles.csv\"\n",
    "results_labeling.to_csv(filename)"
   ]
  },
  {
   "cell_type": "code",
   "execution_count": 10,
   "metadata": {},
   "outputs": [
    {
     "name": "stdout",
     "output_type": "stream",
     "text": [
      "     Unnamed: 0  True Negatives  Computed Outputs 1  False Negatives  \\\n",
      "0             0               1                   2                1   \n",
      "1             1               1                   2                1   \n",
      "2             2               1                   2                1   \n",
      "3             3               2                   2                0   \n",
      "4             4               1                   1                2   \n",
      "..          ...             ...                 ...              ...   \n",
      "308         308               2                   2                1   \n",
      "309         309               0                   2                1   \n",
      "310         310               1                   2                1   \n",
      "311         311               2                   2                1   \n",
      "312         312               1                   1                0   \n",
      "\n",
      "     Computed Outputs 2  True Negatives Result  False Negatives Result  \n",
      "0                     1                    0.0                     0.0  \n",
      "1                     2                    0.0                     0.0  \n",
      "2                     2                    0.0                     0.0  \n",
      "3                     2                    1.0                     0.0  \n",
      "4                     2                    NaN                     2.0  \n",
      "..                  ...                    ...                     ...  \n",
      "308                   2                    1.0                     0.0  \n",
      "309                   2                    0.0                     0.0  \n",
      "310                   1                    0.0                     0.0  \n",
      "311                   1                    1.0                     0.0  \n",
      "312                   2                    NaN                     NaN  \n",
      "\n",
      "[313 rows x 7 columns]\n"
     ]
    }
   ],
   "source": [
    "import pandas as pd\n",
    "\n",
    "# Data definition\n",
    "filename = \"labelling_of_vaccination_articles.csv\"\n",
    "data = pd.read_csv(filename)\n",
    "# Creating the DataFrame\n",
    "df = pd.DataFrame(data)\n",
    "\n",
    "# Adding True Negatives Result column\n",
    "df['True Negatives Result'] = df.apply(\n",
    "    lambda row: 1 if row[\"True Negatives\"] == 2 and row[\"Computed Outputs 1\"] == 2 else None if row[\"Computed Outputs 1\"] != 2 else 0,\n",
    "    axis=1\n",
    ")\n",
    "\n",
    "# Adding False Negatives Result column\n",
    "df['False Negatives Result'] = df.apply(\n",
    "    lambda row: 2 if row[\"False Negatives\"] == 2 and row[\"Computed Outputs 2\"] == 2 else None if row[\"Computed Outputs 1\"] != 2 else 0,\n",
    "    axis=1\n",
    ")\n",
    "\n",
    "# Display the modified DataFrame\n",
    "print(df)\n"
   ]
  },
  {
   "cell_type": "code",
   "execution_count": 8,
   "metadata": {},
   "outputs": [
    {
     "name": "stdout",
     "output_type": "stream",
     "text": [
      "Average True Negatives Result: 0.60546875\n",
      "Average False Negatives Result: 0.41509433962264153\n"
     ]
    }
   ],
   "source": [
    "true_negatives_results = df[\"True Negatives Result\"]\n",
    "\n",
    "false_negatives_results = df[\"False Negatives Result\"]\n",
    "\n",
    "false_negatives_results.dropna().mean()\n",
    "\n",
    "true_negatives_results.dropna().mean()\n",
    "\n",
    "# Print out the results.\n",
    "\n",
    "print(\"Average True Negatives Result:\", true_negatives_results.dropna().mean())\n",
    "print(\"Average False Negatives Result:\", false_negatives_results.dropna().mean())\n",
    "\n",
    "\n",
    "\n"
   ]
  },
  {
   "cell_type": "code",
   "execution_count": 12,
   "metadata": {},
   "outputs": [
    {
     "name": "stdout",
     "output_type": "stream",
     "text": [
      "     Unnamed: 0  True Negatives  Computed Outputs 1  False Negatives  \\\n",
      "0             0               2                   2                1   \n",
      "1             1               2                   2                2   \n",
      "2             2               1                   2                1   \n",
      "3             3               2                   2                1   \n",
      "4             4               2                   2                1   \n",
      "..          ...             ...                 ...              ...   \n",
      "431         431               2                   2                1   \n",
      "432         432               2                   2                1   \n",
      "433         433               1                   2                1   \n",
      "434         434               2                   2                2   \n",
      "435         435               1                   2                1   \n",
      "\n",
      "     Computed Outputs 2  True Negatives Result  False Negatives Result  \n",
      "0                     2                    1.0                     0.0  \n",
      "1                     2                    1.0                     2.0  \n",
      "2                     1                    0.0                     0.0  \n",
      "3                     2                    1.0                     0.0  \n",
      "4                     1                    1.0                     0.0  \n",
      "..                  ...                    ...                     ...  \n",
      "431                   2                    1.0                     0.0  \n",
      "432                   2                    1.0                     0.0  \n",
      "433                   2                    0.0                     0.0  \n",
      "434                   2                    1.0                     2.0  \n",
      "435                   2                    0.0                     0.0  \n",
      "\n",
      "[436 rows x 7 columns]\n",
      "Average True Negatives Result: 0.6518324607329843\n",
      "Average False Negatives Result: 0.6984924623115578\n"
     ]
    }
   ],
   "source": [
    "import pandas as pd\n",
    "\n",
    "# Data definition\n",
    "filename = \"labelling_of_vaccination_tweets.csv\"\n",
    "data = pd.read_csv(filename)\n",
    "# Creating the DataFrame\n",
    "df = pd.DataFrame(data)\n",
    "\n",
    "# Adding True Negatives Result column\n",
    "df['True Negatives Result'] = df.apply(\n",
    "    lambda row: 1 if row[\"True Negatives\"] == 2 and row[\"Computed Outputs 1\"] == 2 else None if row[\"Computed Outputs 1\"] != 2 else 0,\n",
    "    axis=1\n",
    ")\n",
    "\n",
    "# Adding False Negatives Result column\n",
    "df['False Negatives Result'] = df.apply(\n",
    "    lambda row: 2 if row[\"False Negatives\"] == 2 and row[\"Computed Outputs 2\"] == 2 else None if row[\"Computed Outputs 1\"] != 2 else 0,\n",
    "    axis=1\n",
    ")\n",
    "\n",
    "# Display the modified DataFrame\n",
    "print(df)\n",
    "\n",
    "true_negatives_results = df[\"True Negatives Result\"]\n",
    "\n",
    "false_negatives_results = df[\"False Negatives Result\"]\n",
    "\n",
    "false_negatives_results.dropna().mean()\n",
    "\n",
    "true_negatives_results.dropna().mean()\n",
    "\n",
    "# Print out the results.\n",
    "\n",
    "print(\"Average True Negatives Result:\", true_negatives_results.dropna().mean())\n",
    "print(\"Average False Negatives Result:\", false_negatives_results.dropna().mean())\n",
    "\n",
    "\n",
    "\n"
   ]
  },
  {
   "cell_type": "code",
   "execution_count": 7,
   "metadata": {},
   "outputs": [],
   "source": [
    "import pandas as pd\n",
    "import json\n",
    "# Correct file path based on user input\n",
    "file_path = \"generation_vaccination_all_tweets_combined.csv\"\n",
    "\n",
    "# Load the CSV file\n",
    "df = pd.read_csv(file_path)\n",
    "\n",
    "# Initialize a list to store the transformed rows\n",
    "transformed_rows = []\n",
    "\n",
    "# Iterate over each row in the original DataFrame\n",
    "for index, row in df.iterrows():\n",
    "    row_id = row['id']\n",
    "    original_facts = json.loads(row['Original_json'])\n",
    "    changed_facts = json.loads(row['Changed_json'])\n",
    "\n",
    "    # Iterate over each key in the facts dictionaries\n",
    "    for key in original_facts.keys():\n",
    "        # Create a new row for each key\n",
    "        transformed_rows.append({\n",
    "            \"id\": row_id,\n",
    "            \"Original fact\": original_facts[key],\n",
    "            \"Synthetic fact\": changed_facts.get(key, None)  # Use None if the key is missing in Changed facts\n",
    "        })\n",
    "\n",
    "# Create a new DataFrame from the transformed rows\n",
    "transformed_df = pd.DataFrame(transformed_rows)\n",
    "\n",
    "# Display the new DataFrame to the user\n",
    "transformed_df.to_csv(\"facts_information_from_tweets.csv\", index=False)\n"
   ]
  },
  {
   "cell_type": "code",
   "execution_count": null,
   "metadata": {},
   "outputs": [],
   "source": []
  }
 ],
 "metadata": {
  "kernelspec": {
   "display_name": "base",
   "language": "python",
   "name": "python3"
  },
  "language_info": {
   "codemirror_mode": {
    "name": "ipython",
    "version": 3
   },
   "file_extension": ".py",
   "mimetype": "text/x-python",
   "name": "python",
   "nbconvert_exporter": "python",
   "pygments_lexer": "ipython3",
   "version": "3.12.7"
  }
 },
 "nbformat": 4,
 "nbformat_minor": 2
}
